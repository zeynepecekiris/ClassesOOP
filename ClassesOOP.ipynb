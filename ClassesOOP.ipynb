{
 "cells": [
  {
   "cell_type": "code",
   "execution_count": 3,
   "id": "b04a48b2-6a10-41a9-ac49-eed07981e18c",
   "metadata": {},
   "outputs": [],
   "source": [
    "atilName = \"Atil\""
   ]
  },
  {
   "cell_type": "code",
   "execution_count": 5,
   "id": "32188665-bdd4-40ce-aff4-ac87766c47d5",
   "metadata": {},
   "outputs": [],
   "source": [
    "atilAge= 30"
   ]
  },
  {
   "cell_type": "code",
   "execution_count": 7,
   "id": "4e75a567-f89d-490c-a784-3ed0fdaddb72",
   "metadata": {},
   "outputs": [],
   "source": [
    "atilGender = \"Male\""
   ]
  },
  {
   "cell_type": "code",
   "execution_count": 9,
   "id": "0db6816b-946b-4d31-b0e2-994b7213b2e0",
   "metadata": {},
   "outputs": [],
   "source": [
    "atlasAge = 10"
   ]
  },
  {
   "cell_type": "code",
   "execution_count": 11,
   "id": "640f5bb9-d2eb-4c11-bca5-3ef4b51af8bc",
   "metadata": {},
   "outputs": [],
   "source": [
    "atlasGender = \"Male\""
   ]
  },
  {
   "cell_type": "code",
   "execution_count": 98,
   "id": "8aed1f34-9346-41a2-9bad-35ae659a53ac",
   "metadata": {},
   "outputs": [],
   "source": [
    "class Person():\n",
    "    name = \"\"\n",
    "    age = \"\"\n",
    "    gender = \"\"\n",
    "# initializer method,\n",
    "    def __init__(self, nameInput ,ageInput,genderInput):\n",
    "        self.name = nameInput\n",
    "        self.age = ageInput\n",
    "        self.gender = genderInput\n",
    "\n",
    "    #method\n",
    "def test(self):\n",
    "    print(\"test\")\n",
    "        \n",
    "        \n",
    "    "
   ]
  },
  {
   "cell_type": "code",
   "execution_count": 100,
   "id": "a587e033-45da-4fc9-b76c-e16376e4cbf5",
   "metadata": {},
   "outputs": [],
   "source": [
    "atil = Person(\"ece\",10,\"woman\")"
   ]
  },
  {
   "cell_type": "code",
   "execution_count": 102,
   "id": "2c67af11-a9f1-405d-a296-3cf4c4a62b68",
   "metadata": {},
   "outputs": [
    {
     "data": {
      "text/plain": [
       "'ece'"
      ]
     },
     "execution_count": 102,
     "metadata": {},
     "output_type": "execute_result"
    }
   ],
   "source": [
    "atil.name\n"
   ]
  },
  {
   "cell_type": "code",
   "execution_count": 104,
   "id": "eebfffa9-29d6-4c05-bc3e-a4bf210b97dd",
   "metadata": {},
   "outputs": [
    {
     "data": {
      "text/plain": [
       "10"
      ]
     },
     "execution_count": 104,
     "metadata": {},
     "output_type": "execute_result"
    }
   ],
   "source": [
    "atil.age"
   ]
  },
  {
   "cell_type": "code",
   "execution_count": 120,
   "id": "5b6d1555-eb52-44cd-b322-b96b03cd96ea",
   "metadata": {},
   "outputs": [],
   "source": [
    "class Dog():\n",
    "\n",
    "    year = 7\n",
    "\n",
    "    def __init__(self,age):\n",
    "        self.age = age\n",
    "\n",
    "    def humanAge(self):\n",
    "        return self.age * self.year "
   ]
  },
  {
   "cell_type": "code",
   "execution_count": 122,
   "id": "bc8fb1d9-2034-426e-9de2-86666ee6c5ec",
   "metadata": {},
   "outputs": [],
   "source": [
    "myDog = Dog(3)"
   ]
  },
  {
   "cell_type": "code",
   "execution_count": 124,
   "id": "26db3190-327e-47db-b441-58daaa8ea0fe",
   "metadata": {},
   "outputs": [
    {
     "data": {
      "text/plain": [
       "3"
      ]
     },
     "execution_count": 124,
     "metadata": {},
     "output_type": "execute_result"
    }
   ],
   "source": [
    "myDog.age"
   ]
  },
  {
   "cell_type": "code",
   "execution_count": 128,
   "id": "d9ec4803-5df8-4fc9-b53e-5f4ee60a971c",
   "metadata": {},
   "outputs": [
    {
     "data": {
      "text/plain": [
       "21"
      ]
     },
     "execution_count": 128,
     "metadata": {},
     "output_type": "execute_result"
    }
   ],
   "source": [
    "myDog.humanAge()"
   ]
  },
  {
   "cell_type": "code",
   "execution_count": null,
   "id": "39f3c0af-1426-43d9-990d-7f686a12f8df",
   "metadata": {},
   "outputs": [],
   "source": []
  }
 ],
 "metadata": {
  "kernelspec": {
   "display_name": "Python 3 (ipykernel)",
   "language": "python",
   "name": "python3"
  },
  "language_info": {
   "codemirror_mode": {
    "name": "ipython",
    "version": 3
   },
   "file_extension": ".py",
   "mimetype": "text/x-python",
   "name": "python",
   "nbconvert_exporter": "python",
   "pygments_lexer": "ipython3",
   "version": "3.12.7"
  }
 },
 "nbformat": 4,
 "nbformat_minor": 5
}
